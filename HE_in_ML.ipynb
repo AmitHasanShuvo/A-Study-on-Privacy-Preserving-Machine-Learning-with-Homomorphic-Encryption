{
  "cells": [
    {
      "cell_type": "markdown",
      "metadata": {
        "id": "view-in-github",
        "colab_type": "text"
      },
      "source": [
        "<a href=\"https://colab.research.google.com/github/AmitHasanShuvo/CISC-870-Project/blob/main/HE_in_ML.ipynb\" target=\"_parent\"><img src=\"https://colab.research.google.com/assets/colab-badge.svg\" alt=\"Open In Colab\"/></a>"
      ]
    },
    {
      "cell_type": "markdown",
      "source": [
        "Author: Kazi Amit Hasan"
      ],
      "metadata": {
        "id": "LK27T_Z8oZ4i"
      }
    },
    {
      "cell_type": "code",
      "execution_count": 5,
      "metadata": {
        "id": "fok5OZAByV_I"
      },
      "outputs": [],
      "source": [
        "# importing the essential libraries\n",
        "import matplotlib.pyplot as plt\n",
        "import numpy as np\n",
        "import pandas as pd\n",
        "from sklearn import datasets, linear_model\n",
        "from sklearn.metrics import mean_squared_error, r2_score"
      ]
    },
    {
      "cell_type": "code",
      "execution_count": 7,
      "metadata": {
        "colab": {
          "base_uri": "https://localhost:8080/"
        },
        "id": "zv9tZHU6nOIM",
        "outputId": "330814f0-8410-4bfb-9fdd-19e42eebf5b1"
      },
      "outputs": [
        {
          "output_type": "stream",
          "name": "stdout",
          "text": [
            "[[ 0.03807591  0.05068012  0.06169621 ... -0.00259226  0.01990842\n",
            "  -0.01764613]\n",
            " [-0.00188202 -0.04464164 -0.05147406 ... -0.03949338 -0.06832974\n",
            "  -0.09220405]\n",
            " [ 0.08529891  0.05068012  0.04445121 ... -0.00259226  0.00286377\n",
            "  -0.02593034]\n",
            " ...\n",
            " [ 0.04170844  0.05068012 -0.01590626 ... -0.01107952 -0.04687948\n",
            "   0.01549073]\n",
            " [-0.04547248 -0.04464164  0.03906215 ...  0.02655962  0.04452837\n",
            "  -0.02593034]\n",
            " [-0.04547248 -0.04464164 -0.0730303  ... -0.03949338 -0.00421986\n",
            "   0.00306441]]\n",
            "[151.  75. 141. 206. 135.  97. 138.  63. 110. 310. 101.  69. 179. 185.\n",
            " 118. 171. 166. 144.  97. 168.  68.  49.  68. 245. 184. 202. 137.  85.\n",
            " 131. 283. 129.  59. 341.  87.  65. 102. 265. 276. 252.  90. 100.  55.\n",
            "  61.  92. 259.  53. 190. 142.  75. 142. 155. 225.  59. 104. 182. 128.\n",
            "  52.  37. 170. 170.  61. 144.  52. 128.  71. 163. 150.  97. 160. 178.\n",
            "  48. 270. 202. 111.  85.  42. 170. 200. 252. 113. 143.  51.  52. 210.\n",
            "  65. 141.  55. 134.  42. 111.  98. 164.  48.  96.  90. 162. 150. 279.\n",
            "  92.  83. 128. 102. 302. 198.  95.  53. 134. 144. 232.  81. 104.  59.\n",
            " 246. 297. 258. 229. 275. 281. 179. 200. 200. 173. 180.  84. 121. 161.\n",
            "  99. 109. 115. 268. 274. 158. 107.  83. 103. 272.  85. 280. 336. 281.\n",
            " 118. 317. 235.  60. 174. 259. 178. 128.  96. 126. 288.  88. 292.  71.\n",
            " 197. 186.  25.  84.  96. 195.  53. 217. 172. 131. 214.  59.  70. 220.\n",
            " 268. 152.  47.  74. 295. 101. 151. 127. 237. 225.  81. 151. 107.  64.\n",
            " 138. 185. 265. 101. 137. 143. 141.  79. 292. 178.  91. 116.  86. 122.\n",
            "  72. 129. 142.  90. 158.  39. 196. 222. 277.  99. 196. 202. 155.  77.\n",
            " 191.  70.  73.  49.  65. 263. 248. 296. 214. 185.  78.  93. 252. 150.\n",
            "  77. 208.  77. 108. 160.  53. 220. 154. 259.  90. 246. 124.  67.  72.\n",
            " 257. 262. 275. 177.  71.  47. 187. 125.  78.  51. 258. 215. 303. 243.\n",
            "  91. 150. 310. 153. 346.  63.  89.  50.  39. 103. 308. 116. 145.  74.\n",
            "  45. 115. 264.  87. 202. 127. 182. 241.  66.  94. 283.  64. 102. 200.\n",
            " 265.  94. 230. 181. 156. 233.  60. 219.  80.  68. 332. 248.  84. 200.\n",
            "  55.  85.  89.  31. 129.  83. 275.  65. 198. 236. 253. 124.  44. 172.\n",
            " 114. 142. 109. 180. 144. 163. 147.  97. 220. 190. 109. 191. 122. 230.\n",
            " 242. 248. 249. 192. 131. 237.  78. 135. 244. 199. 270. 164.  72.  96.\n",
            " 306.  91. 214.  95. 216. 263. 178. 113. 200. 139. 139.  88. 148.  88.\n",
            " 243.  71.  77. 109. 272.  60.  54. 221.  90. 311. 281. 182. 321.  58.\n",
            " 262. 206. 233. 242. 123. 167.  63. 197.  71. 168. 140. 217. 121. 235.\n",
            " 245.  40.  52. 104. 132.  88.  69. 219.  72. 201. 110.  51. 277.  63.\n",
            " 118.  69. 273. 258.  43. 198. 242. 232. 175.  93. 168. 275. 293. 281.\n",
            "  72. 140. 189. 181. 209. 136. 261. 113. 131. 174. 257.  55.  84.  42.\n",
            " 146. 212. 233.  91. 111. 152. 120.  67. 310.  94. 183.  66. 173.  72.\n",
            "  49.  64.  48. 178. 104. 132. 220.  57.]\n"
          ]
        }
      ],
      "source": [
        "# Loading the diabetes dataset\n",
        "data_X, data_y = datasets.load_diabetes(return_X_y=True)\n",
        "print(data_X)\n",
        "print(data_y)"
      ]
    },
    {
      "cell_type": "code",
      "execution_count": 8,
      "metadata": {
        "id": "5msdnhJZyplt"
      },
      "outputs": [],
      "source": [
        "# Using only one feature\n",
        "data_X = data_X[:, np.newaxis, 2]\n",
        "\n",
        "# Split the data into training/testing sets, Due to the short size of the dataset, I regard 30 samples as test samples and the remaining samples as training samples. \n",
        "data_X_train = data_X[:-30]\n",
        "data_X_test = data_X[-30:]\n",
        "\n",
        "# Split the targets into training/testing sets, Due to the short size of the dataset, I regard 30 samples as test samples and the remaining samples as training samples. \n",
        "data_y_train = data_y[:-30]\n",
        "data_y_test = data_y[-30:]"
      ]
    },
    {
      "cell_type": "code",
      "execution_count": 9,
      "metadata": {
        "colab": {
          "base_uri": "https://localhost:8080/"
        },
        "id": "dMTiQwWl0DEy",
        "outputId": "f125eff7-8f59-421c-f864-631d8e518422"
      },
      "outputs": [
        {
          "output_type": "execute_result",
          "data": {
            "text/plain": [
              "LinearRegression()"
            ]
          },
          "metadata": {},
          "execution_count": 9
        }
      ],
      "source": [
        "# Creating linear regression object\n",
        "model = linear_model.LinearRegression()\n",
        "\n",
        "# Train the model using the training sets\n",
        "model.fit(data_X_train, data_y_train)"
      ]
    },
    {
      "cell_type": "code",
      "execution_count": 10,
      "metadata": {
        "colab": {
          "base_uri": "https://localhost:8080/"
        },
        "id": "i5HtkpqX0Tjt",
        "outputId": "e33ebc3a-6066-4d05-c131-6426a0b49997"
      },
      "outputs": [
        {
          "output_type": "stream",
          "name": "stdout",
          "text": [
            "Regression Coefficients: \n",
            " [941.43097333]\n",
            "Intercept: \n",
            " 153.39713623331698\n"
          ]
        }
      ],
      "source": [
        "# The coefficients\n",
        "print('Regression Coefficients: \\n', model.coef_)\n",
        "# Intercept\n",
        "print('Intercept: \\n', model.intercept_)"
      ]
    },
    {
      "cell_type": "code",
      "execution_count": 11,
      "metadata": {
        "id": "PGNqNUzk0jbI"
      },
      "outputs": [],
      "source": [
        "# Calculate diabetes progression based on the linear regression equation obtained from the above model fit\n",
        "def predict(bmi):\n",
        "  coeff = 941.43097333\n",
        "  intercept = 153.3971362333169\n",
        "  diabetes_progression = (coeff * bmi) + intercept\n",
        "  return diabetes_progression"
      ]
    },
    {
      "cell_type": "code",
      "execution_count": 12,
      "metadata": {
        "colab": {
          "base_uri": "https://localhost:8080/"
        },
        "id": "hN1xZs8c2aBg",
        "outputId": "63998a28-6741-4514-fc12-459c5e6f4a2d"
      },
      "outputs": [
        {
          "output_type": "stream",
          "name": "stdout",
          "text": [
            "104.93786182627008\n"
          ]
        }
      ],
      "source": [
        "# test using one of the bmi values\n",
        "dp = predict(-0.05147406)\n",
        "print(dp)"
      ]
    },
    {
      "cell_type": "markdown",
      "source": [
        "Now, lets install pyfhel library in order to perform HE"
      ],
      "metadata": {
        "id": "Iu4o3mI7olKJ"
      }
    },
    {
      "cell_type": "code",
      "execution_count": 13,
      "metadata": {
        "colab": {
          "base_uri": "https://localhost:8080/"
        },
        "id": "HprUEptt3HUd",
        "outputId": "9f63c020-0a61-442e-9451-7ddc69530fda"
      },
      "outputs": [
        {
          "output_type": "stream",
          "name": "stdout",
          "text": [
            "Looking in indexes: https://pypi.org/simple, https://us-python.pkg.dev/colab-wheels/public/simple/\n",
            "Collecting Pyfhel\n",
            "  Downloading Pyfhel-3.3.2.tar.gz (2.2 MB)\n",
            "\u001b[K     |████████████████████████████████| 2.2 MB 9.5 MB/s \n",
            "\u001b[?25h  Installing build dependencies ... \u001b[?25l\u001b[?25hdone\n",
            "  Getting requirements to build wheel ... \u001b[?25l\u001b[?25herror\n",
            "\u001b[33mWARNING: Discarding https://files.pythonhosted.org/packages/a1/fe/710014db666c39e36b27dd20616e75e429ed0f21a415a46a4f3af3ffb427/Pyfhel-3.3.2.tar.gz#sha256=6a2c1e54d5b5535ca51091d9b483ce05a8487d0ae845589afcfa4cd04d93c3f6 (from https://pypi.org/simple/pyfhel/) (requires-python:>=3.7). Command errored out with exit status 1: /usr/bin/python3 /usr/local/lib/python3.8/dist-packages/pip/_vendor/pep517/in_process/_in_process.py get_requires_for_build_wheel /tmp/tmpzjgybpes Check the logs for full command output.\u001b[0m\n",
            "  Downloading Pyfhel-3.3.1.tar.gz (48.6 MB)\n",
            "\u001b[K     |████████████████████████████████| 48.6 MB 15 kB/s \n",
            "\u001b[?25h  Installing build dependencies ... \u001b[?25l\u001b[?25hdone\n",
            "  Getting requirements to build wheel ... \u001b[?25l\u001b[?25herror\n",
            "\u001b[33mWARNING: Discarding https://files.pythonhosted.org/packages/b7/44/6297ae371c48434acf993050d8bcb0c27d8039aaa0319e45539f1b35e8f0/Pyfhel-3.3.1.tar.gz#sha256=04a622d51c4a75c8adf86d7b4392b818f9815fec9ab5605df8ed1c39f89171c4 (from https://pypi.org/simple/pyfhel/) (requires-python:>=3.7). Command errored out with exit status 1: /usr/bin/python3 /usr/local/lib/python3.8/dist-packages/pip/_vendor/pep517/in_process/_in_process.py get_requires_for_build_wheel /tmp/tmpcvthp_4h Check the logs for full command output.\u001b[0m\n",
            "  Downloading Pyfhel-3.3.0.tar.gz (48.3 MB)\n",
            "\u001b[K     |████████████████████████████████| 48.3 MB 1.3 MB/s \n",
            "\u001b[?25h  Installing build dependencies ... \u001b[?25l\u001b[?25hdone\n",
            "  Getting requirements to build wheel ... \u001b[?25l\u001b[?25herror\n",
            "\u001b[33mWARNING: Discarding https://files.pythonhosted.org/packages/b0/45/217933add3f9cb0da3f76e0d8e4e6c32c6c52feb076c73984b6a99754ae7/Pyfhel-3.3.0.tar.gz#sha256=31615f71a9cc95abbc48f10c11d77262bfa653f449d66241ef97603318cec15b (from https://pypi.org/simple/pyfhel/) (requires-python:>=3.7). Command errored out with exit status 1: /usr/bin/python3 /usr/local/lib/python3.8/dist-packages/pip/_vendor/pep517/in_process/_in_process.py get_requires_for_build_wheel /tmp/tmpiovwtpbh Check the logs for full command output.\u001b[0m\n",
            "  Downloading Pyfhel-3.2.1.tar.gz (42.4 MB)\n",
            "\u001b[K     |████████████████████████████████| 42.4 MB 1.2 MB/s \n",
            "\u001b[?25h  Installing build dependencies ... \u001b[?25l\u001b[?25hdone\n",
            "  Getting requirements to build wheel ... \u001b[?25l\u001b[?25herror\n",
            "\u001b[33mWARNING: Discarding https://files.pythonhosted.org/packages/95/d7/da304c2b9e8474d4a1f1842d043d591b5bfc82831ee00be5b86e065cba6f/Pyfhel-3.2.1.tar.gz#sha256=b930a40dc0e591f41943397d67f7d3835de2c077f82efab6f10ac3def6b1b5d5 (from https://pypi.org/simple/pyfhel/) (requires-python:>=3.7). Command errored out with exit status 1: /usr/bin/python3 /usr/local/lib/python3.8/dist-packages/pip/_vendor/pep517/in_process/_in_process.py get_requires_for_build_wheel /tmp/tmpcb5i7ho0 Check the logs for full command output.\u001b[0m\n",
            "  Downloading Pyfhel-3.1.4.tar.gz (42.0 MB)\n",
            "\u001b[K     |████████████████████████████████| 42.0 MB 1.5 MB/s \n",
            "\u001b[?25h  Installing build dependencies ... \u001b[?25l\u001b[?25hdone\n",
            "  Getting requirements to build wheel ... \u001b[?25l\u001b[?25herror\n",
            "\u001b[33mWARNING: Discarding https://files.pythonhosted.org/packages/c7/9c/f4dff60e28af7f4c21c9ab9af2785c5ebb2b14226eec32244994ef0f3924/Pyfhel-3.1.4.tar.gz#sha256=3008dd1cf148337cd5343a2ad38ce2ba60b039df660fb3dd76ddb0599db91f34 (from https://pypi.org/simple/pyfhel/) (requires-python:>=3.7). Command errored out with exit status 1: /usr/bin/python3 /usr/local/lib/python3.8/dist-packages/pip/_vendor/pep517/in_process/_in_process.py get_requires_for_build_wheel /tmp/tmptrow50z5 Check the logs for full command output.\u001b[0m\n",
            "  Downloading Pyfhel-3.1.3.tar.gz (41.5 MB)\n",
            "\u001b[K     |████████████████████████████████| 41.5 MB 1.5 MB/s \n",
            "\u001b[?25h  Installing build dependencies ... \u001b[?25l\u001b[?25hdone\n",
            "  Getting requirements to build wheel ... \u001b[?25l\u001b[?25herror\n",
            "\u001b[33mWARNING: Discarding https://files.pythonhosted.org/packages/71/01/cadd3e78b146b873f0aafd04cc57ba5c6fee88660442771a7f7ae92dab8a/Pyfhel-3.1.3.tar.gz#sha256=b0302141a493e48a2efccae15f9170867d5b67b972204a359cefaacbe5970b00 (from https://pypi.org/simple/pyfhel/) (requires-python:>=3.7). Command errored out with exit status 1: /usr/bin/python3 /usr/local/lib/python3.8/dist-packages/pip/_vendor/pep517/in_process/_in_process.py get_requires_for_build_wheel /tmp/tmpusxrdsvw Check the logs for full command output.\u001b[0m\n",
            "  Downloading Pyfhel-3.1.2.tar.gz (40.0 MB)\n",
            "\u001b[K     |████████████████████████████████| 40.0 MB 1.2 MB/s \n",
            "\u001b[?25h  Installing build dependencies ... \u001b[?25l\u001b[?25hdone\n",
            "  Getting requirements to build wheel ... \u001b[?25l\u001b[?25herror\n",
            "\u001b[33mWARNING: Discarding https://files.pythonhosted.org/packages/4b/9f/bf5d64a09dcd3306a987f8a551824a7b4a062cf8aa2b71e591db2ad5110e/Pyfhel-3.1.2.tar.gz#sha256=f64dc1a9e730aae8e284a2679cc0ca93fd31cacca9d338ac92f073f8ed870a1a (from https://pypi.org/simple/pyfhel/) (requires-python:>=3.7). Command errored out with exit status 1: /usr/bin/python3 /usr/local/lib/python3.8/dist-packages/pip/_vendor/pep517/in_process/_in_process.py get_requires_for_build_wheel /tmp/tmp8tu7gt6y Check the logs for full command output.\u001b[0m\n",
            "  Downloading Pyfhel-3.1.1.tar.gz (40.0 MB)\n",
            "\u001b[K     |████████████████████████████████| 40.0 MB 1.1 MB/s \n",
            "\u001b[?25h  Installing build dependencies ... \u001b[?25l\u001b[?25hdone\n",
            "  Getting requirements to build wheel ... \u001b[?25l\u001b[?25herror\n",
            "\u001b[33mWARNING: Discarding https://files.pythonhosted.org/packages/5b/ca/e071b02b44aa0959b72cd125a87d28fd67fff0a0947deb786c320f84a275/Pyfhel-3.1.1.tar.gz#sha256=fc1d17e81b702ed24cd260ec82740b94639a49896508eff45b0bb34b1aefbd0b (from https://pypi.org/simple/pyfhel/) (requires-python:>=3.7). Command errored out with exit status 1: /usr/bin/python3 /usr/local/lib/python3.8/dist-packages/pip/_vendor/pep517/in_process/_in_process.py get_requires_for_build_wheel /tmp/tmpcp2zzf9_ Check the logs for full command output.\u001b[0m\n",
            "  Downloading Pyfhel-3.1.0.tar.gz (40.0 MB)\n",
            "\u001b[K     |████████████████████████████████| 40.0 MB 1.4 MB/s \n",
            "\u001b[?25h  Installing build dependencies ... \u001b[?25l\u001b[?25hdone\n",
            "  Getting requirements to build wheel ... \u001b[?25l\u001b[?25herror\n",
            "\u001b[33mWARNING: Discarding https://files.pythonhosted.org/packages/e4/df/bfb15f0396a29281c23e440252db20637afb213bcf3a1778e6b9bd457e9c/Pyfhel-3.1.0.tar.gz#sha256=12b03888974ca15fe5732729be8069dc852b7607beb9fe9feb8bd52184206bc3 (from https://pypi.org/simple/pyfhel/) (requires-python:>=3.7). Command errored out with exit status 1: /usr/bin/python3 /usr/local/lib/python3.8/dist-packages/pip/_vendor/pep517/in_process/_in_process.py get_requires_for_build_wheel /tmp/tmpjxiuw6gj Check the logs for full command output.\u001b[0m\n",
            "  Downloading Pyfhel-2.3.1.tar.gz (716 kB)\n",
            "\u001b[K     |████████████████████████████████| 716 kB 47.1 MB/s \n",
            "\u001b[?25h  Installing build dependencies ... \u001b[?25l\u001b[?25hdone\n",
            "  Getting requirements to build wheel ... \u001b[?25l\u001b[?25hdone\n",
            "    Preparing wheel metadata ... \u001b[?25l\u001b[?25hdone\n",
            "Requirement already satisfied: cython>=0.29.2 in /usr/local/lib/python3.8/dist-packages (from Pyfhel) (0.29.32)\n",
            "Requirement already satisfied: setuptools>=45.0.0 in /usr/local/lib/python3.8/dist-packages (from Pyfhel) (57.4.0)\n",
            "Requirement already satisfied: numpy>=1.16.0 in /usr/local/lib/python3.8/dist-packages (from Pyfhel) (1.21.6)\n",
            "Building wheels for collected packages: Pyfhel\n",
            "  Building wheel for Pyfhel (PEP 517) ... \u001b[?25l\u001b[?25hdone\n",
            "  Created wheel for Pyfhel: filename=Pyfhel-2.3.1-cp38-cp38-linux_x86_64.whl size=6352870 sha256=cf67a43ed4ff77af827a53611f192a7a94f54e301463350ccf82890f03dba8b5\n",
            "  Stored in directory: /root/.cache/pip/wheels/63/2a/a6/a0c4a8557a22b735dba9dac776a799c8b4fd38816b75ccf2bb\n",
            "Successfully built Pyfhel\n",
            "Installing collected packages: Pyfhel\n",
            "Successfully installed Pyfhel-2.3.1\n"
          ]
        }
      ],
      "source": [
        "pip install Pyfhel\n"
      ]
    },
    {
      "cell_type": "code",
      "execution_count": 14,
      "metadata": {
        "id": "uWnZU5tk4ehU"
      },
      "outputs": [],
      "source": [
        "# importing library\n",
        "from Pyfhel import Pyfhel, PyPtxt, PyCtxt"
      ]
    },
    {
      "cell_type": "code",
      "execution_count": 15,
      "metadata": {
        "colab": {
          "base_uri": "https://localhost:8080/"
        },
        "id": "RZELB94T4m3m",
        "outputId": "ef2f43f9-33c9-4dd3-a2f8-e53e660545a4"
      },
      "outputs": [
        {
          "output_type": "stream",
          "name": "stdout",
          "text": [
            "<Pyfhel obj at 0x7f784a8a7970, [pk:Y, sk:Y, rtk:-, rlk:-, contx(p=65537, m=2048, base=2, sec=128, dig=64i.32f, batch=False)]>\n"
          ]
        }
      ],
      "source": [
        "HE = Pyfhel()\n",
        "# Creating Context and KeyGen in Pyfhel object.\n",
        "HE.contextGen(p=65537, base=2, intDigits=64, fracDigits = 32) \n",
        "HE.keyGen()\n",
        "print(HE)"
      ]
    },
    {
      "cell_type": "code",
      "execution_count": 16,
      "metadata": {
        "id": "eLiIPmOG40NM"
      },
      "outputs": [],
      "source": [
        "# Calculating diabetes projection using equation given below\n",
        "# diabetes_projection = coeff * bmi + intercept\n",
        "def predict_encrypted(ctxt1):\n",
        "  intercept = 153.3971362333169\n",
        "  ctxt2 = HE.encryptFrac(intercept)\n",
        "\n",
        "  coeff = 941.43097333\n",
        "  ctxt3 = HE.encryptFrac(coeff)\n",
        "\n",
        "  ctxtmul = ctxt3 * ctxt1\n",
        "  ctxtsum = ctxtmul + ctxt2\n",
        "  return ctxtsum\n"
      ]
    },
    {
      "cell_type": "code",
      "execution_count": 17,
      "metadata": {
        "colab": {
          "base_uri": "https://localhost:8080/"
        },
        "id": "FuEO5hglko8s",
        "outputId": "1f3e1ed5-e535-4b3a-e1f0-99689055c94e"
      },
      "outputs": [
        {
          "output_type": "stream",
          "name": "stdout",
          "text": [
            "84.64414984895848\n"
          ]
        }
      ],
      "source": [
        "# predict body mass index using encryption\n",
        "bmi1 = -0.0730303\n",
        "ctxt1 = HE.encryptFrac(bmi1)\n",
        "dp_encrypted = predict_encrypted(ctxt1)\n",
        "dp = HE.decryptFrac(dp_encrypted)\n",
        "print(dp)"
      ]
    },
    {
      "cell_type": "code",
      "execution_count": 18,
      "metadata": {
        "colab": {
          "base_uri": "https://localhost:8080/"
        },
        "id": "2qI-RT3d6znN",
        "outputId": "b8e1b914-f48e-45d3-f2ab-ccafcbde8b30"
      },
      "outputs": [
        {
          "output_type": "execute_result",
          "data": {
            "text/plain": [
              "84.644149821735"
            ]
          },
          "metadata": {},
          "execution_count": 18
        }
      ],
      "source": [
        "# predict body mass index without encryption\n",
        "predict(-0.0730303)"
      ]
    },
    {
      "cell_type": "code",
      "execution_count": 19,
      "metadata": {
        "id": "zDPTy9Z2lzun"
      },
      "outputs": [],
      "source": [
        "# Generating predictions on test data using sklearn's model\n",
        "test_predict = model.predict(data_X_test)"
      ]
    },
    {
      "cell_type": "code",
      "execution_count": 20,
      "metadata": {
        "id": "gYuJ0--imDaw"
      },
      "outputs": [],
      "source": [
        "encrypted_test_predict = []\n",
        "for bmi in data_X_test:\n",
        "  ctxt = HE.encryptFrac(bmi)\n",
        "  dp = predict_encrypted(ctxt)\n",
        "  encrypted_test_predict.append(HE.decryptFrac(dp))\n"
      ]
    },
    {
      "cell_type": "code",
      "execution_count": 21,
      "metadata": {
        "colab": {
          "base_uri": "https://localhost:8080/"
        },
        "id": "SeiTI76mnRzj",
        "outputId": "1545fcc5-17a5-416d-f695-595815c24e64"
      },
      "outputs": [
        {
          "output_type": "execute_result",
          "data": {
            "text/plain": [
              "1.0"
            ]
          },
          "metadata": {},
          "execution_count": 21
        }
      ],
      "source": [
        "# R2 score for values predicted with and without encyption\n",
        "r2_score(test_predict, encrypted_test_predict)"
      ]
    },
    {
      "cell_type": "code",
      "execution_count": 22,
      "metadata": {
        "colab": {
          "base_uri": "https://localhost:8080/"
        },
        "id": "xrWQCm0yoD-O",
        "outputId": "0390ace4-4f96-45ab-d11c-5a7dd6b63403"
      },
      "outputs": [
        {
          "output_type": "execute_result",
          "data": {
            "text/plain": [
              "0.41092072813583513"
            ]
          },
          "metadata": {},
          "execution_count": 22
        }
      ],
      "source": [
        "r2_score(data_y_test, test_predict)"
      ]
    },
    {
      "cell_type": "code",
      "execution_count": 23,
      "metadata": {
        "colab": {
          "base_uri": "https://localhost:8080/"
        },
        "id": "OGkkM3-Cogyt",
        "outputId": "5733c69e-b313-4673-d22c-261554d2cfe6"
      },
      "outputs": [
        {
          "output_type": "execute_result",
          "data": {
            "text/plain": [
              "0.41092072817435"
            ]
          },
          "metadata": {},
          "execution_count": 23
        }
      ],
      "source": [
        "r2_score(data_y_test, encrypted_test_predict)"
      ]
    }
  ],
  "metadata": {
    "colab": {
      "provenance": [],
      "include_colab_link": true
    },
    "kernelspec": {
      "display_name": "Python 3.9.6 64-bit",
      "language": "python",
      "name": "python3"
    },
    "language_info": {
      "codemirror_mode": {
        "name": "ipython",
        "version": 3
      },
      "file_extension": ".py",
      "mimetype": "text/x-python",
      "name": "python",
      "nbconvert_exporter": "python",
      "pygments_lexer": "ipython3",
      "version": "3.9.6"
    },
    "vscode": {
      "interpreter": {
        "hash": "31f2aee4e71d21fbe5cf8b01ff0e069b9275f58929596ceb00d14d90e3e16cd6"
      }
    }
  },
  "nbformat": 4,
  "nbformat_minor": 0
}